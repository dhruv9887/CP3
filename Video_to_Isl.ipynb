{
  "nbformat": 4,
  "nbformat_minor": 0,
  "metadata": {
    "colab": {
      "provenance": []
    },
    "kernelspec": {
      "name": "python3",
      "display_name": "Python 3"
    },
    "language_info": {
      "name": "python"
    }
  },
  "cells": [
    {
      "cell_type": "markdown",
      "source": [
        "#Video To Indian Sign Language"
      ],
      "metadata": {
        "id": "oXQE9TRy5uPE"
      }
    },
    {
      "cell_type": "code",
      "source": [
        "!pip install SpeechRecognition\n",
        "!pip install pocketsphinx\n",
        "!pip install pydub"
      ],
      "metadata": {
        "colab": {
          "base_uri": "https://localhost:8080/"
        },
        "id": "4FiZ74xSSjFX",
        "outputId": "c90f0de1-ba93-43ff-907e-4dcf0730c434"
      },
      "execution_count": null,
      "outputs": [
        {
          "output_type": "stream",
          "name": "stdout",
          "text": [
            "Requirement already satisfied: SpeechRecognition in /usr/local/lib/python3.10/dist-packages (3.10.0)\n",
            "Requirement already satisfied: requests>=2.26.0 in /usr/local/lib/python3.10/dist-packages (from SpeechRecognition) (2.31.0)\n",
            "Requirement already satisfied: charset-normalizer<4,>=2 in /usr/local/lib/python3.10/dist-packages (from requests>=2.26.0->SpeechRecognition) (3.3.1)\n",
            "Requirement already satisfied: idna<4,>=2.5 in /usr/local/lib/python3.10/dist-packages (from requests>=2.26.0->SpeechRecognition) (3.4)\n",
            "Requirement already satisfied: urllib3<3,>=1.21.1 in /usr/local/lib/python3.10/dist-packages (from requests>=2.26.0->SpeechRecognition) (2.0.7)\n",
            "Requirement already satisfied: certifi>=2017.4.17 in /usr/local/lib/python3.10/dist-packages (from requests>=2.26.0->SpeechRecognition) (2023.7.22)\n",
            "Requirement already satisfied: pocketsphinx in /usr/local/lib/python3.10/dist-packages (5.0.2)\n",
            "Requirement already satisfied: sounddevice in /usr/local/lib/python3.10/dist-packages (from pocketsphinx) (0.4.6)\n",
            "Requirement already satisfied: CFFI>=1.0 in /usr/local/lib/python3.10/dist-packages (from sounddevice->pocketsphinx) (1.16.0)\n",
            "Requirement already satisfied: pycparser in /usr/local/lib/python3.10/dist-packages (from CFFI>=1.0->sounddevice->pocketsphinx) (2.21)\n",
            "Requirement already satisfied: pydub in /usr/local/lib/python3.10/dist-packages (0.25.1)\n"
          ]
        }
      ]
    },
    {
      "cell_type": "code",
      "source": [
        "#importing needed libraries\n",
        "import re\n",
        "import numpy as np\n",
        "import pandas as pd\n",
        "from google.colab import files\n",
        "from moviepy.editor import VideoFileClip\n",
        "import speech_recognition as sr\n",
        "import pocketsphinx\n",
        "from pydub import AudioSegment\n",
        "import nltk\n",
        "from nltk.tokenize import sent_tokenize, word_tokenize\n",
        "from nltk.corpus import stopwords\n",
        "from nltk.stem.porter import PorterStemmer\n",
        "from nltk.stem.snowball import SnowballStemmer\n",
        "from nltk.stem.wordnet import WordNetLemmatizer"
      ],
      "metadata": {
        "id": "2gM9qUBuR0qu"
      },
      "execution_count": null,
      "outputs": []
    },
    {
      "cell_type": "code",
      "source": [
        "nltk.download('stopwords')\n",
        "nltk.download('omw-1.4')\n",
        "nltk.download('wordnet')\n",
        "nltk. download(\"punkt\")"
      ],
      "metadata": {
        "colab": {
          "base_uri": "https://localhost:8080/"
        },
        "id": "hHiDpWaGRiF5",
        "outputId": "8ce819f4-7664-48d1-ece3-c089271a449e"
      },
      "execution_count": null,
      "outputs": [
        {
          "output_type": "stream",
          "name": "stderr",
          "text": [
            "[nltk_data] Downloading package stopwords to /root/nltk_data...\n",
            "[nltk_data]   Package stopwords is already up-to-date!\n",
            "[nltk_data] Downloading package omw-1.4 to /root/nltk_data...\n",
            "[nltk_data]   Package omw-1.4 is already up-to-date!\n",
            "[nltk_data] Downloading package wordnet to /root/nltk_data...\n",
            "[nltk_data]   Package wordnet is already up-to-date!\n",
            "[nltk_data] Downloading package punkt to /root/nltk_data...\n",
            "[nltk_data]   Package punkt is already up-to-date!\n"
          ]
        },
        {
          "output_type": "execute_result",
          "data": {
            "text/plain": [
              "True"
            ]
          },
          "metadata": {},
          "execution_count": 20
        }
      ]
    },
    {
      "cell_type": "code",
      "execution_count": null,
      "metadata": {
        "id": "FI-g9RatRpdW"
      },
      "outputs": [],
      "source": [
        "#upload video file\n",
        "#video_file = files.upload()"
      ]
    },
    {
      "cell_type": "code",
      "source": [
        "#check extensions\n",
        "#'''\n",
        "#allowed_extensions = ['.mp4', '.avi', '.mkv', '.mov', '.wmv']\n",
        "#for filename, file_content in video_file.items():\n",
        " #   if any(filename.endswith(ext) for ext in allowed_extensions):\n",
        "  #      with open(filename, 'wb') as f:\n",
        "     #       f.write(file_content)\n",
        "      #  print(f\"File '{filename}' (video) has been uploaded and saved.\")\n",
        "   # else:\n",
        "    #    print(f\"File '{filename}' is not a supported video file .\")\n",
        "#'''"
      ],
      "metadata": {
        "id": "TKeEuR05S-h8"
      },
      "execution_count": null,
      "outputs": []
    },
    {
      "cell_type": "code",
      "source": [
        "#video to audio conversion\n",
        "video_clip = VideoFileClip(\"/content/drive/MyDrive/CP3/demovid.mp4\") #paste your video location here\n",
        "#video_clip = VideoFileClip(f)\n",
        "audio_clip = video_clip.audio"
      ],
      "metadata": {
        "id": "9r3PL9raTOMc"
      },
      "execution_count": null,
      "outputs": []
    },
    {
      "cell_type": "code",
      "source": [
        "# Save the audio to a file\n",
        "audio_file=\"/content/drive/MyDrive/CP3/demoaudio.mp3\" #change this\n",
        "audio_clip.write_audiofile(audio_file,codec='mp3')\n",
        "# Close the audio clip\n",
        "audio_clip.close()\n",
        "# Close the video clip\n",
        "video_clip.close()\n",
        "print(\"Video to audio conversion completed.\")"
      ],
      "metadata": {
        "id": "zh-vIKJXbiAg",
        "colab": {
          "base_uri": "https://localhost:8080/"
        },
        "outputId": "affdafc0-aec7-479f-fd4f-64c08d5c8bdc"
      },
      "execution_count": null,
      "outputs": [
        {
          "output_type": "stream",
          "name": "stdout",
          "text": [
            "MoviePy - Writing audio in /content/drive/MyDrive/CP3/demoaudio.mp3\n"
          ]
        },
        {
          "output_type": "stream",
          "name": "stderr",
          "text": []
        },
        {
          "output_type": "stream",
          "name": "stdout",
          "text": [
            "MoviePy - Done.\n",
            "Video to audio conversion completed.\n"
          ]
        }
      ]
    },
    {
      "cell_type": "code",
      "source": [
        "#mp3 to wav\n",
        "path_mp3=\"/content/drive/MyDrive/CP3/demoaudio.mp3\" #change this\n",
        "audio = AudioSegment.from_mp3(path_mp3)\n",
        "audio.export(\"/content/drive/MyDrive/CP3/temp.wav\", format=\"wav\")  #change this"
      ],
      "metadata": {
        "colab": {
          "base_uri": "https://localhost:8080/"
        },
        "id": "IhOWcuYweFDF",
        "outputId": "77698ace-fdf9-4b2d-d2c9-84b8da398c54"
      },
      "execution_count": null,
      "outputs": [
        {
          "output_type": "execute_result",
          "data": {
            "text/plain": [
              "<_io.BufferedRandom name='/content/drive/MyDrive/CP3/temp.wav'>"
            ]
          },
          "metadata": {},
          "execution_count": 25
        }
      ]
    },
    {
      "cell_type": "code",
      "source": [
        "#audio to text conversion\n",
        "path=\"/content/drive/MyDrive/CP3/temp.wav\" #change this\n",
        "rz=sr.Recognizer()\n",
        "with sr.AudioFile(path) as source:\n",
        "  audio_data=rz.record(source)\n",
        "  text=rz.recognize_sphinx(audio_data)\n",
        "with open('/content/drive/MyDrive/CP3/demoV2T.txt','w+') as file: #change this\n",
        "  file.write(text)"
      ],
      "metadata": {
        "id": "GeTo_g48U75k"
      },
      "execution_count": null,
      "outputs": []
    },
    {
      "cell_type": "code",
      "source": [
        "def cleaning(data):\n",
        "  data1=word_tokenize(data)\n",
        "  new_words= [word for word in data1 if word.isalnum()]\n",
        "  return new_words\n",
        "#new_words=cleaning(text)"
      ],
      "metadata": {
        "id": "RTZ10UsVW4nh"
      },
      "execution_count": null,
      "outputs": []
    },
    {
      "cell_type": "code",
      "source": [
        "cleaning(text)"
      ],
      "metadata": {
        "colab": {
          "base_uri": "https://localhost:8080/"
        },
        "id": "CqlqBaXYb68C",
        "outputId": "4a0679aa-8885-4eff-8d4e-50602bde55cf"
      },
      "execution_count": null,
      "outputs": [
        {
          "output_type": "execute_result",
          "data": {
            "text/plain": [
              "['one',\n",
              " 'really',\n",
              " 'easy',\n",
              " 'way',\n",
              " 'to',\n",
              " 'speak',\n",
              " 'more',\n",
              " 'clearly',\n",
              " 'is',\n",
              " 'to',\n",
              " 'say',\n",
              " 'the',\n",
              " 'words',\n",
              " 'completely',\n",
              " 'see',\n",
              " 'the',\n",
              " 'entire',\n",
              " 'word',\n",
              " 'do',\n",
              " 'stay',\n",
              " 'any',\n",
              " 'all',\n",
              " 'the',\n",
              " 'letters',\n",
              " 'bills',\n",
              " 'to',\n",
              " 'pay',\n",
              " 'me',\n",
              " 'off',\n",
              " 'the',\n",
              " 'top',\n",
              " 'of',\n",
              " 'this',\n",
              " 'single',\n",
              " 'whole',\n",
              " 'war',\n",
              " 'and',\n",
              " 'practice',\n",
              " 'doing',\n",
              " 'that',\n",
              " 'war',\n",
              " 'and',\n",
              " 'we',\n",
              " 'in',\n",
              " 'a',\n",
              " 'new',\n",
              " 'offline',\n",
              " 'you',\n",
              " 'sell',\n",
              " 'a',\n",
              " 'lot',\n",
              " 'more',\n",
              " 'polished']"
            ]
          },
          "metadata": {},
          "execution_count": 28
        }
      ]
    },
    {
      "cell_type": "code",
      "source": [
        "import os\n",
        "from moviepy.editor import VideoFileClip, concatenate_videoclips,clips_array\n",
        "\n",
        "folder_path = \"/content/drive/MyDrive/CP3/ISL Dictionary\"  # Update this to the actual path\n",
        "#words_to_match = [\"hello\",\"you\",\"brother\",]\n",
        "\n",
        "video_clips = []\n",
        "\n",
        "for word in cleaning(text):\n",
        "    word_video_clips = []\n",
        "\n",
        "    for folder in os.listdir(folder_path):\n",
        "        folder_letter = folder.lower()\n",
        "        folder_directory = os.path.join(folder_path, folder)\n",
        "\n",
        "        if os.path.isdir(folder_directory):\n",
        "            for video_file in os.listdir(folder_directory):\n",
        "                # Remove the \".mp4\" extension and compare the video filename to the word\n",
        "                video_name = os.path.splitext(video_file)[0]\n",
        "                if video_name==(word.title()):\n",
        "                    video_path = os.path.join(folder_directory, video_file)\n",
        "                    video_clip = VideoFileClip(video_path)\n",
        "                    word_video_clips.append(video_clip)\n",
        "  #              else:\n",
        "    #                print(f\"Skipped: {video_file} in folder {folder} as it does not match the word {word}\")\n",
        "\n",
        "    if word_video_clips:\n",
        "        final_clip = concatenate_videoclips(word_video_clips)\n",
        "        video_clips.append(final_clip)\n",
        "    else:\n",
        "        print(f\"No matching videos found for word: {word}\")\n",
        "\n",
        "if video_clips:\n",
        "    final_video = concatenate_videoclips(video_clips)\n",
        "    final_video.write_videofile(\"output.mp4\", codec=\"libx264\") #change this for final output video location\n",
        "else:\n",
        "    print(\"No videos found for the specified words.\")\n"
      ],
      "metadata": {
        "colab": {
          "base_uri": "https://localhost:8080/"
        },
        "id": "0lbdsFcPBixW",
        "outputId": "083f4ee2-d66d-4ff8-c839-98cf434d72ff"
      },
      "execution_count": null,
      "outputs": [
        {
          "output_type": "stream",
          "name": "stdout",
          "text": [
            "No matching videos found for word: one\n",
            "No matching videos found for word: really\n",
            "No matching videos found for word: to\n",
            "No matching videos found for word: speak\n",
            "No matching videos found for word: clearly\n",
            "No matching videos found for word: is\n",
            "No matching videos found for word: to\n",
            "No matching videos found for word: say\n",
            "No matching videos found for word: the\n",
            "No matching videos found for word: words\n",
            "No matching videos found for word: completely\n",
            "No matching videos found for word: the\n",
            "No matching videos found for word: entire\n",
            "No matching videos found for word: the\n",
            "No matching videos found for word: letters\n",
            "No matching videos found for word: bills\n",
            "No matching videos found for word: to\n",
            "No matching videos found for word: me\n",
            "No matching videos found for word: off\n",
            "No matching videos found for word: the\n",
            "No matching videos found for word: of\n",
            "No matching videos found for word: single\n",
            "No matching videos found for word: whole\n",
            "No matching videos found for word: and\n",
            "No matching videos found for word: doing\n",
            "No matching videos found for word: and\n",
            "No matching videos found for word: a\n",
            "No matching videos found for word: offline\n",
            "No matching videos found for word: a\n",
            "No matching videos found for word: lot\n",
            "No matching videos found for word: polished\n",
            "Moviepy - Building video output.mp4.\n",
            "Moviepy - Writing video output.mp4\n",
            "\n"
          ]
        },
        {
          "output_type": "stream",
          "name": "stderr",
          "text": []
        },
        {
          "output_type": "stream",
          "name": "stdout",
          "text": [
            "Moviepy - Done !\n",
            "Moviepy - video ready output.mp4\n"
          ]
        }
      ]
    }
  ]
}